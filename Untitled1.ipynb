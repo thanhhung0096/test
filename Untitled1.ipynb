{
 "cells": [
  {
   "cell_type": "code",
   "execution_count": null,
   "metadata": {},
   "outputs": [],
   "source": [
    "from sklearn.svm import LinearSVC\n",
    "from sklearn.ensemble import RandomForestClassifier\n",
    "import numpy as np\n",
    "class classifier():\n",
    "    def __init__(self,hist,labels):\n",
    "        hist = np.asarray(hist)\n",
    "        labels = np.array(labels)\n",
    "        labels = np.reshape(labels, (len(labels),1))\n",
    "        self.data = np.concatenate((hist,labels), axis=1)\n",
    "        np.random.shuffle(self.data)\n",
    "\n",
    "        size = int(0.8*len(self.data))\n",
    "        self.train_X = self.data[0:size,0:-1]\n",
    "        self.train_Y = self.data[0:size, -1]\n",
    "        self.test_X = self.data[size:-1,0:-1]\n",
    "        self.test_X = self.data[size:-1, -1]\n",
    "\n",
    "    def train(self):\n",
    "        clf = LinearSVC(C=100.0, random_state=42)\n",
    "        # clf = RandomForestClassifier(n_estimators=5)\n",
    "        clf.fit(self.data,self.label)\n",
    "        print clf\n",
    "        self.clf = clf\n",
    "\n",
    "    def predict(self,featureVector):\n",
    "        label = self.clf.predict(featureVector)\n",
    "        return label\n",
    "\n"
   ]
  }
 ],
 "metadata": {
  "kernelspec": {
   "display_name": "Python 2",
   "language": "python",
   "name": "python2"
  },
  "language_info": {
   "codemirror_mode": {
    "name": "ipython",
    "version": 2
   },
   "file_extension": ".py",
   "mimetype": "text/x-python",
   "name": "python",
   "nbconvert_exporter": "python",
   "pygments_lexer": "ipython2",
   "version": "2.7.14"
  }
 },
 "nbformat": 4,
 "nbformat_minor": 2
}
