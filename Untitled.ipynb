{
 "cells": [
  {
   "cell_type": "code",
   "execution_count": 1,
   "metadata": {},
   "outputs": [],
   "source": [
    "from lbp import LBP\n",
    "from Classifier import classifier\n",
    "import numpy as np\n",
    "import cv2\n",
    "import os\n",
    "from Classifier import classifier\n",
    "from time import time\n",
    "\n",
    "path = 'KL/Faces'\n",
    "def ExtractFace(pathToData):\n",
    "    \"\"\n",
    "    faces=[]\n",
    "    labels=[]\n",
    "    folders = os.listdir(pathToData)\n",
    "    for folder in folders:\n",
    "        label = int(folder.replace(\"s\", \"\"))\n",
    "        images = os.listdir(pathToData +\"/\" + folder)\n",
    "        for img in images:\n",
    "            path = pathToData +\"/\"+ folder + \"/\" + img\n",
    "#             print path\n",
    "            image = cv2.imread(path,0)\n",
    "            ##            print type(image)\n",
    "            cv2.imshow(\"Training on image...\", image)\n",
    "            cv2.waitKey(100)\n",
    "            # gray = cv2.cvtColor(image, cv2.COLOR_BGR2GRAY)\n",
    "            ##                print type(face)\n",
    "            labels.append(label)\n",
    "            faces.append(image)\n",
    "            cv2.destroyAllWindows()\n",
    "            cv2.waitKey(1)\n",
    "            cv2.destroyAllWindows()\n",
    "    return faces, labels\n",
    "if __name__ == '__main__':\n",
    "    faces, labels = ExtractFace('KL/Faces')\n",
    "    hist = []\n",
    "    for face in faces:\n",
    "        lbp = LBP(face)\n",
    "        lbp_image,_ = lbp.createLBPImage()\n",
    "        hist.append(lbp.Histogram(lbp_image))\n",
    "   \n"
   ]
  },
  {
   "cell_type": "code",
   "execution_count": 21,
   "metadata": {},
   "outputs": [
    {
     "name": "stdout",
     "output_type": "stream",
     "text": [
      "accuracy using SVM: 1.00\n",
      "accuracy using Random Forest: 1.00\n",
      "accuracy using kNN: 1.00\n",
      "accuracy using Naive Bayes: 1.00\n"
     ]
    }
   ],
   "source": [
    "clf = classifier(hist, labels)\n",
    "clf.svm()\n",
    "clf.random_forest()\n",
    "clf.KNN()\n",
    "clf.Bayes()"
   ]
  }
 ],
 "metadata": {
  "kernelspec": {
   "display_name": "Python 2",
   "language": "python",
   "name": "python2"
  },
  "language_info": {
   "codemirror_mode": {
    "name": "ipython",
    "version": 2
   },
   "file_extension": ".py",
   "mimetype": "text/x-python",
   "name": "python",
   "nbconvert_exporter": "python",
   "pygments_lexer": "ipython2",
   "version": "2.7.14"
  }
 },
 "nbformat": 4,
 "nbformat_minor": 2
}
